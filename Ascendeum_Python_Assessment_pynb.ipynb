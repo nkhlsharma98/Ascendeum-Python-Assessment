{
  "nbformat": 4,
  "nbformat_minor": 0,
  "metadata": {
    "colab": {
      "provenance": []
    },
    "kernelspec": {
      "name": "python3",
      "display_name": "Python 3"
    },
    "language_info": {
      "name": "python"
    }
  },
  "cells": [
    {
      "cell_type": "code",
      "source": [
        "n=int(input(\"Enter the size of diamond: \"))\n",
        "for i in range(n+1):\n",
        "  x=ord(\"A\")\n",
        "  for j in range(1,n+1-i):\n",
        "    print(\" \",end=\" \")\n",
        "  for j in range(1,i+1):\n",
        "    print(chr(x),end=\" \")\n",
        "    x=x+1\n",
        "  for j in range(1,i):\n",
        "    print(chr(x),end=\" \")\n",
        "    x=x+1\n",
        "  print()\n",
        "for i in range(n):\n",
        "  x=ord(\"A\")\n",
        "  for j in range(0,i+1):\n",
        "    print(\" \",end=\" \")\n",
        "  for j in range(1,n-i):\n",
        "    print(chr(x),end=\" \")\n",
        "    x=x+1\n",
        "  for j in range(1,n-1-i):\n",
        "    print(chr(x),end=\" \")\n",
        "    x=x+1\n",
        "  print()"
      ],
      "metadata": {
        "colab": {
          "base_uri": "https://localhost:8080/"
        },
        "id": "qxsRS-qpJuN5",
        "outputId": "6f67fb94-4bc2-406b-d271-49b59a6cf9d4"
      },
      "execution_count": 38,
      "outputs": [
        {
          "output_type": "stream",
          "name": "stdout",
          "text": [
            "Enter the size of diamond: 5\n",
            "          \n",
            "        A \n",
            "      A B C \n",
            "    A B C D E \n",
            "  A B C D E F G \n",
            "A B C D E F G H I \n",
            "  A B C D E F G \n",
            "    A B C D E \n",
            "      A B C \n",
            "        A \n",
            "          \n"
          ]
        }
      ]
    }
  ]
}